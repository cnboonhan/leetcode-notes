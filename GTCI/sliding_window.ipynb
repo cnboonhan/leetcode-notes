{
 "cells": [
  {
   "cell_type": "markdown",
   "id": "cc1afae0-a317-4242-90e5-e496dc6142d8",
   "metadata": {},
   "source": [
    "# Sliding Window Pattern"
   ]
  },
  {
   "cell_type": "markdown",
   "id": "12054d5b-5572-43a8-ac63-e6169809c558",
   "metadata": {},
   "source": [
    "Data Structure: Array \n",
    "\n",
    "Calculate something among all contiguous subarrays of given size K."
   ]
  },
  {
   "cell_type": "code",
   "execution_count": 2,
   "id": "1e4bac6c-848e-4c1e-a06a-0be685910f93",
   "metadata": {},
   "outputs": [],
   "source": [
    "sample_input = [1, 3, 2, 6, -1, 4, 1, 8, 2]\n",
    "K = 5  "
   ]
  },
  {
   "cell_type": "code",
   "execution_count": 12,
   "id": "af3c11ce-59ad-4030-8b11-39cb2591cc68",
   "metadata": {},
   "outputs": [
    {
     "name": "stdout",
     "output_type": "stream",
     "text": [
      "[2.2, 2.8, 2.4, 3.6, 2.8]\n"
     ]
    }
   ],
   "source": [
    "def brute_force_sliding_window(sample_input, K):\n",
    "    output = []\n",
    "    for i in range(len(sample_input) - K + 1):\n",
    "        total = 0\n",
    "        for j in range(K):\n",
    "            total += sample_input[i + j]\n",
    "        avg = total / K\n",
    "        output.append(avg)\n",
    "    print(output)\n",
    "    \n",
    "brute_force_sliding_window(sample_input, K)"
   ]
  },
  {
   "cell_type": "code",
   "execution_count": null,
   "id": "a64670a9-90d6-4128-9e4a-a080d696a540",
   "metadata": {},
   "outputs": [],
   "source": []
  }
 ],
 "metadata": {
  "kernelspec": {
   "display_name": "Python 3 (ipykernel)",
   "language": "python",
   "name": "python3"
  },
  "language_info": {
   "codemirror_mode": {
    "name": "ipython",
    "version": 3
   },
   "file_extension": ".py",
   "mimetype": "text/x-python",
   "name": "python",
   "nbconvert_exporter": "python",
   "pygments_lexer": "ipython3",
   "version": "3.10.6"
  }
 },
 "nbformat": 4,
 "nbformat_minor": 5
}
