{
 "cells": [
  {
   "cell_type": "markdown",
   "id": "5f1c1812-24fe-4fb2-8637-e68a7a79f648",
   "metadata": {},
   "source": [
    "# Common Mistakes"
   ]
  },
  {
   "cell_type": "code",
   "execution_count": 8,
   "id": "407cc82d-db3e-4f8f-801d-6bb2df80a1cb",
   "metadata": {},
   "outputs": [],
   "source": [
    "# Off by one: When iterating over an array with an offset for sliding windows, add one back after substracting window size\n",
    "# Sanity check: If K = 1, we would want range(X) where X = len(A); so X = len(A) - 1 + 1 \n",
    "A = [0, 1, 2, 3, 4, 5]         # len(A) = 6\n",
    "K = 2\n",
    "for i in range(len(A) - K + 1):\n",
    "    pass"
   ]
  }
 ],
 "metadata": {
  "kernelspec": {
   "display_name": "Python 3 (ipykernel)",
   "language": "python",
   "name": "python3"
  },
  "language_info": {
   "codemirror_mode": {
    "name": "ipython",
    "version": 3
   },
   "file_extension": ".py",
   "mimetype": "text/x-python",
   "name": "python",
   "nbconvert_exporter": "python",
   "pygments_lexer": "ipython3",
   "version": "3.10.6"
  }
 },
 "nbformat": 4,
 "nbformat_minor": 5
}
