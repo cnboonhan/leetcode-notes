{
 "cells": [
  {
   "cell_type": "markdown",
   "id": "5f1c1812-24fe-4fb2-8637-e68a7a79f648",
   "metadata": {},
   "source": [
    "# Notes"
   ]
  },
  {
   "cell_type": "markdown",
   "id": "b654a74a-cca1-44b9-94af-0f3b201ea430",
   "metadata": {
    "tags": []
   },
   "source": [
    "## Question Types"
   ]
  },
  {
   "cell_type": "markdown",
   "id": "22572eb6-4b95-427f-8e09-a25f1ab4b1ff",
   "metadata": {},
   "source": [
    "### Optimization\n",
    "Solution Space is large; Apply constraints efficiently to search the best fit answer."
   ]
  },
  {
   "cell_type": "code",
   "execution_count": 34,
   "id": "582f3cfb-74e3-4e2a-a1c4-0d375877cf10",
   "metadata": {},
   "outputs": [],
   "source": [
    "# Convention: \n",
    "# output variable x, array A, array index A_i, track variable property_x\n",
    "def optimize(A, k, **kwargs):\n",
    "    # x: type | f(y), contraint 1, ...\n",
    "    # y: type | g(z), constraint 2, ...\n",
    "    pass"
   ]
  },
  {
   "cell_type": "markdown",
   "id": "74224e96-6ee0-4d25-a2f9-2463c9044a29",
   "metadata": {},
   "source": [
    "### Organization\n",
    "Given data, transform it to make it ordered according to some criteria"
   ]
  },
  {
   "cell_type": "code",
   "execution_count": 39,
   "id": "2b9db126-97b0-4f1f-81f3-c9e35b372d5f",
   "metadata": {},
   "outputs": [],
   "source": [
    "def organize(A):\n",
    "    for i in range(A):\n",
    "        # pre-loop invariant: x is true entering each loop\n",
    "        # act in some small step to organize data\n",
    "        # post-loop invariant: x is true when exiting loop, and data is slightly more ordered\n",
    "        continue\n",
    "    return "
   ]
  },
  {
   "cell_type": "markdown",
   "id": "badb31fb-3cbd-4aab-a3f6-9ee0f7f9c1d9",
   "metadata": {},
   "source": [
    "### Compute\n",
    "Calculate an output value efficiently."
   ]
  },
  {
   "cell_type": "code",
   "execution_count": 41,
   "id": "8c6b6ba9-c633-4b2e-846f-746e7a8ddaf5",
   "metadata": {},
   "outputs": [],
   "source": [
    "def compute(**kwargs):\n",
    "    # Base Case: n = 1, n = 2, etc\n",
    "    # Extension Cases\n",
    "    return"
   ]
  },
  {
   "cell_type": "markdown",
   "id": "53925b9b-55ed-4559-989b-6ce228bb9962",
   "metadata": {},
   "source": [
    "## General "
   ]
  },
  {
   "cell_type": "code",
   "execution_count": 51,
   "id": "4fb54a8a-ba23-47ea-871b-cbb7adf6cade",
   "metadata": {},
   "outputs": [],
   "source": [
    "# In an array, the j'th element has index i = (j - 1)"
   ]
  },
  {
   "cell_type": "code",
   "execution_count": 44,
   "id": "aa74a185-d29d-4c33-b919-e3f5e22049fd",
   "metadata": {},
   "outputs": [],
   "source": [
    "# When doing min/max on an output variable x, we need a min_x/max_x variable, and a current_x variable."
   ]
  },
  {
   "cell_type": "code",
   "execution_count": 46,
   "id": "026a589b-8364-46d8-873e-6fb5c584aa4c",
   "metadata": {},
   "outputs": [],
   "source": [
    "# For an array with index i, removing k elements will leave i + 1 - k elements."
   ]
  },
  {
   "cell_type": "code",
   "execution_count": 53,
   "id": "148966ef-4469-4383-a1e0-d36e0cd0c2af",
   "metadata": {},
   "outputs": [],
   "source": [
    "# Input constraints are \"goodies\": Use them to identify \"shortcuts\" for more efficient algorithms."
   ]
  },
  {
   "cell_type": "code",
   "execution_count": null,
   "id": "a2b3f80c-3d3c-496c-a20f-6ebda67510db",
   "metadata": {},
   "outputs": [],
   "source": [
    "# Entering a loop, we should try to structure as follows:\n",
    "for i in range(5):\n",
    "    # State variable definitions: Define variables to track important state of the loop\n",
    "    # Pre-invariant: Build up to an invariant state\n",
    "    # Exit Check: If exit condition is met, return \n",
    "    # Invariant Definition: A always true statement at this point \n",
    "    # State variable change: Iterative change to the state variables\n",
    "    # Post-invariant: Optionally"
   ]
  },
  {
   "cell_type": "markdown",
   "id": "65cafd0a-9284-4e26-bf19-7797f4eed80a",
   "metadata": {},
   "source": [
    "## Sliding Window"
   ]
  },
  {
   "cell_type": "code",
   "execution_count": 48,
   "id": "8e0f163d-0447-48e1-ba54-de2e756380c1",
   "metadata": {},
   "outputs": [],
   "source": [
    "# For a window of size k with end index j, the start index i = j - k + 1"
   ]
  },
  {
   "cell_type": "code",
   "execution_count": 49,
   "id": "559be6e5-cefd-4a1c-93d3-07be5f034695",
   "metadata": {},
   "outputs": [],
   "source": [
    "# For an array with index i, removing k elements will point to the element with index i - k."
   ]
  },
  {
   "cell_type": "code",
   "execution_count": 50,
   "id": "c3373184-472f-4321-8302-5a3e697d2fbf",
   "metadata": {},
   "outputs": [],
   "source": [
    "# if i - k >= 0, then i + 1 - k > 0."
   ]
  }
 ],
 "metadata": {
  "kernelspec": {
   "display_name": "Python 3 (ipykernel)",
   "language": "python",
   "name": "python3"
  },
  "language_info": {
   "codemirror_mode": {
    "name": "ipython",
    "version": 3
   },
   "file_extension": ".py",
   "mimetype": "text/x-python",
   "name": "python",
   "nbconvert_exporter": "python",
   "pygments_lexer": "ipython3",
   "version": "3.10.6"
  }
 },
 "nbformat": 4,
 "nbformat_minor": 5
}
